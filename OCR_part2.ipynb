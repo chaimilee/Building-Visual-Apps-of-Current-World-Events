{
  "cells": [
    {
      "cell_type": "code",
      "execution_count": null,
      "metadata": {
        "colab": {
          "base_uri": "https://localhost:8080/"
        },
        "id": "qtKcnd0BkM0i",
        "outputId": "4fe1ccd6-23c0-49b3-bd95-d898ac43c296"
      },
      "outputs": [
        {
          "name": "stdout",
          "output_type": "stream",
          "text": [
            "Requirement already satisfied: pytesseract in /usr/local/lib/python3.7/dist-packages (0.3.9)\n",
            "Requirement already satisfied: packaging>=21.3 in /usr/local/lib/python3.7/dist-packages (from pytesseract) (21.3)\n",
            "Requirement already satisfied: Pillow>=8.0.0 in /usr/local/lib/python3.7/dist-packages (from pytesseract) (9.1.0)\n",
            "Requirement already satisfied: pyparsing!=3.0.5,>=2.0.2 in /usr/local/lib/python3.7/dist-packages (from packaging>=21.3->pytesseract) (3.0.8)\n"
          ]
        }
      ],
      "source": [
        "pip install pytesseract"
      ]
    },
    {
      "cell_type": "code",
      "execution_count": null,
      "metadata": {
        "colab": {
          "base_uri": "https://localhost:8080/"
        },
        "id": "fHYDauV9GQ84",
        "outputId": "a0952ca8-9599-454b-cae9-6ac1ff2732c1"
      },
      "outputs": [
        {
          "name": "stdout",
          "output_type": "stream",
          "text": [
            "Reading package lists... Done\n",
            "Building dependency tree       \n",
            "Reading state information... Done\n",
            "tesseract-ocr is already the newest version (4.00~git2288-10f4998a-2).\n",
            "0 upgraded, 0 newly installed, 0 to remove and 41 not upgraded.\n"
          ]
        }
      ],
      "source": [
        "! sudo apt install tesseract-ocr"
      ]
    },
    {
      "cell_type": "code",
      "execution_count": null,
      "metadata": {
        "colab": {
          "base_uri": "https://localhost:8080/"
        },
        "id": "Itjnz0EZGWYL",
        "outputId": "6c18f8e5-e74b-4071-91d1-03be3f4b5485"
      },
      "outputs": [
        {
          "name": "stdout",
          "output_type": "stream",
          "text": [
            "Reading package lists... Done\n",
            "Building dependency tree       \n",
            "Reading state information... Done\n",
            "The following additional packages will be installed:\n",
            "  libleptonica-dev\n",
            "The following NEW packages will be installed:\n",
            "  libleptonica-dev libtesseract-dev\n",
            "0 upgraded, 2 newly installed, 0 to remove and 41 not upgraded.\n",
            "Need to get 2,755 kB of archives.\n",
            "After this operation, 13.8 MB of additional disk space will be used.\n",
            "Get:1 http://archive.ubuntu.com/ubuntu bionic/universe amd64 libleptonica-dev amd64 1.75.3-3 [1,308 kB]\n",
            "Get:2 http://archive.ubuntu.com/ubuntu bionic/universe amd64 libtesseract-dev amd64 4.00~git2288-10f4998a-2 [1,447 kB]\n",
            "Fetched 2,755 kB in 0s (16.1 MB/s)\n",
            "debconf: unable to initialize frontend: Dialog\n",
            "debconf: (No usable dialog-like program is installed, so the dialog based frontend cannot be used. at /usr/share/perl5/Debconf/FrontEnd/Dialog.pm line 76, <> line 2.)\n",
            "debconf: falling back to frontend: Readline\n",
            "debconf: unable to initialize frontend: Readline\n",
            "debconf: (This frontend requires a controlling tty.)\n",
            "debconf: falling back to frontend: Teletype\n",
            "dpkg-preconfigure: unable to re-open stdin: \n",
            "Selecting previously unselected package libleptonica-dev.\n",
            "(Reading database ... 155561 files and directories currently installed.)\n",
            "Preparing to unpack .../libleptonica-dev_1.75.3-3_amd64.deb ...\n",
            "Unpacking libleptonica-dev (1.75.3-3) ...\n",
            "Selecting previously unselected package libtesseract-dev.\n",
            "Preparing to unpack .../libtesseract-dev_4.00~git2288-10f4998a-2_amd64.deb ...\n",
            "Unpacking libtesseract-dev (4.00~git2288-10f4998a-2) ...\n",
            "Setting up libleptonica-dev (1.75.3-3) ...\n",
            "Setting up libtesseract-dev (4.00~git2288-10f4998a-2) ...\n"
          ]
        }
      ],
      "source": [
        "! sudo apt install libtesseract-dev"
      ]
    },
    {
      "cell_type": "code",
      "execution_count": null,
      "metadata": {
        "colab": {
          "base_uri": "https://localhost:8080/",
          "height": 321
        },
        "id": "GXdQz0_n4v2o",
        "outputId": "4301f0ad-23bf-4c2b-dd2d-bd89fe588d18"
      },
      "outputs": [
        {
          "name": "stdout",
          "output_type": "stream",
          "text": [
            "Collecting Pillow==9.0.0\n",
            "  Downloading Pillow-9.0.0-cp37-cp37m-manylinux_2_17_x86_64.manylinux2014_x86_64.whl (4.3 MB)\n",
            "\u001b[K     |████████████████████████████████| 4.3 MB 27.8 MB/s \n",
            "\u001b[?25hInstalling collected packages: Pillow\n",
            "  Attempting uninstall: Pillow\n",
            "    Found existing installation: Pillow 9.1.0\n",
            "    Uninstalling Pillow-9.1.0:\n",
            "      Successfully uninstalled Pillow-9.1.0\n",
            "\u001b[31mERROR: pip's dependency resolver does not currently take into account all the packages that are installed. This behaviour is the source of the following dependency conflicts.\n",
            "albumentations 0.1.12 requires imgaug<0.2.7,>=0.2.5, but you have imgaug 0.2.9 which is incompatible.\u001b[0m\n",
            "Successfully installed Pillow-9.0.0\n"
          ]
        },
        {
          "data": {
            "application/vnd.colab-display-data+json": {
              "pip_warning": {
                "packages": [
                  "PIL"
                ]
              }
            }
          },
          "metadata": {},
          "output_type": "display_data"
        }
      ],
      "source": [
        "!pip install Pillow==9.0.0"
      ]
    },
    {
      "cell_type": "code",
      "execution_count": null,
      "metadata": {
        "colab": {
          "base_uri": "https://localhost:8080/"
        },
        "id": "_2mpbgP5ke5Z",
        "outputId": "46eae30c-b933-4f00-f380-a98b5895ef54"
      },
      "outputs": [
        {
          "name": "stdout",
          "output_type": "stream",
          "text": [
            "Mounted at /content/drive/\n"
          ]
        }
      ],
      "source": [
        "# Mount Google Drive\n",
        "from google.colab import drive\n",
        "drive.mount('/content/drive/')"
      ]
    },
    {
      "cell_type": "code",
      "execution_count": null,
      "metadata": {
        "id": "HVKFM-zjkzhG"
      },
      "outputs": [],
      "source": [
        "import PIL\n",
        "from PIL import Image\n",
        "import pytesseract\n",
        "import os\n",
        "import re\n",
        "import string\n",
        "import nltk\n",
        "from collections import OrderedDict\n",
        "import json"
      ]
    },
    {
      "cell_type": "code",
      "execution_count": null,
      "metadata": {
        "id": "OsRAIZ_XJCvS"
      },
      "outputs": [],
      "source": [
        "dict_text={}\n",
        "dict_texts={}"
      ]
    },
    {
      "cell_type": "code",
      "execution_count": null,
      "metadata": {
        "colab": {
          "background_save": true
        },
        "id": "dRtqbowvALyk"
      },
      "outputs": [],
      "source": [
        "#ALJAZEERA\n",
        "\n",
        "for index1 in range(1,31):\n",
        "  input_str=''\n",
        "  for index2 in range(1,28):\n",
        "    image_path_in_colab ='/content/drive/MyDrive/Assignment 3/aljazeera_split_images/3-'+str(index1)+'-22-'+str(index2)+'.png'\n",
        "    extractedInformation = pytesseract.image_to_string(Image.open(image_path_in_colab))\n",
        "    input_str=input_str+extractedInformation\n",
        "    k='3-'+str(index1)+'-22'\n",
        "    dict_texts[k]=input_str"
      ]
    },
    {
      "cell_type": "markdown",
      "metadata": {
        "id": "PQs0hfdwRV4I"
      },
      "source": [
        "Important links:\n",
        "https://pypi.org/project/pytesseract/\n",
        "https://github.com/tesseract-ocr/tesseract/blob/main/README.md#installing-tesseract\n",
        "https://tesseract-ocr.github.io/tessdoc/Installation.html \n"
      ]
    },
    {
      "cell_type": "code",
      "execution_count": null,
      "metadata": {
        "id": "NDjcvQZHPyBN"
      },
      "outputs": [],
      "source": [
        "#ALJAZEERA\n",
        "with open(\"aljazeera_images_ocr_uncleaned.json\", \"w\") as outfile:\n",
        "    json.dump(dict_texts, outfile)"
      ]
    },
    {
      "cell_type": "code",
      "execution_count": null,
      "metadata": {
        "colab": {
          "base_uri": "https://localhost:8080/"
        },
        "id": "TTnyRYXoivGQ",
        "outputId": "5ca3b5c9-596f-46a1-b4d9-d06c39865442"
      },
      "outputs": [
        {
          "name": "stdout",
          "output_type": "stream",
          "text": [
            "{}\n"
          ]
        }
      ],
      "source": [
        "#ALJAZEERA-CLEANING\n",
        "\n",
        "data=dict_texts\n",
        "\n",
        "data_with_cleaned_texts={}\n",
        "\n",
        "chars = re.escape(string.punctuation)\n",
        "nltk.download('words')\n",
        "words = set(nltk.corpus.words.words())\n",
        "\n",
        "data_with_cleaned_texts['03-30-22']=data_with_cleaned_texts['03-30-22'][1057:]\n",
        "\n",
        "with open('aljazeera_images_ocr.json', 'w') as fp:\n",
        "    json.dump(data_with_cleaned_texts, fp)"
      ]
    },
    {
      "cell_type": "code",
      "source": [
        "#FOX\n",
        "\n",
        "for index1 in range(12,32):\n",
        "  input_str=''\n",
        "  for index2 in range(0,19):\n",
        "    image_path_in_colab ='/content/drive/MyDrive/Assignment 3/fox_split_images/03-'+str(index1)+'-22/03-05-22-'+str(index2)+'.png' \n",
        "    extractedInformation = pytesseract.image_to_string(Image.open(image_path_in_colab))\n",
        "    input_str=input_str+extractedInformation\n",
        "    k='03-'+str(index1)+'-22'\n",
        "    dict_texts[k]=input_str"
      ],
      "metadata": {
        "id": "Qn_a0mMPovid"
      },
      "execution_count": null,
      "outputs": []
    },
    {
      "cell_type": "code",
      "source": [
        "#FOX\n",
        "for index1 in range(12,32):\n",
        "  input_str=''\n",
        "  try:\n",
        "    for index2 in range(0,19):\n",
        "      image_path_in_colab ='/content/drive/MyDrive/Assignment 3/fox_split_images/03-'+str(index1)+'-22/03-05-22-'+str(index2)+'.png' \n",
        "      extractedInformation = pytesseract.image_to_string(Image.open(image_path_in_colab))\n",
        "      input_str=input_str+extractedInformation\n",
        "      k='03-'+str(index1)+'-22'\n",
        "      dict_texts[k]=input_str\n",
        "  except:\n",
        "    pass"
      ],
      "metadata": {
        "id": "YnGBA4tCo7OP"
      },
      "execution_count": null,
      "outputs": []
    },
    {
      "cell_type": "code",
      "source": [
        "#FOX\n",
        "with open('fox_images_ocr_uncleaned.json', 'w') as fp:\n",
        "    json.dump(dict_texts, fp)"
      ],
      "metadata": {
        "id": "LRkZpGl5o-At"
      },
      "execution_count": null,
      "outputs": []
    },
    {
      "cell_type": "code",
      "source": [
        "#FOX-CLEANING\n",
        "\n",
        "data=dict_texts\n",
        "\n",
        "data_with_cleaned_texts={}\n",
        "\n",
        "chars = re.escape(string.punctuation)\n",
        "nltk.download('words')\n",
        "words = set(nltk.corpus.words.words())\n",
        "\n",
        "data_with_cleaned_texts['03-31-22']=data_with_cleaned_texts['03-31-22'][1057:]\n",
        "\n",
        "with open('fox_images_ocr.json', 'w') as fp:\n",
        "    json.dump(data_with_cleaned_texts, fp)"
      ],
      "metadata": {
        "id": "luxzUYPgpU4B"
      },
      "execution_count": null,
      "outputs": []
    },
    {
      "cell_type": "code",
      "source": [
        "#CNN\n",
        "\n",
        "directory = \"/content/drive/MyDrive/DSCI 550 Team Project/Assignment 3/cnn_split_images/\"\n",
        "\n",
        "\n",
        "text_list_cnn = []\n",
        "for subdirs, dirs, files in os.walk(directory):\n",
        "  for dir in dirs:\n",
        "    input_str = \"\"\n",
        "    ctr=0\n",
        "    print(dir)\n",
        "    for f in os.listdir(os.path.join(directory, dir)):\n",
        "      # image_path_in_colab = \"/content/drive/MyDrive/DSCI 550 Team Project/Assignment 3/cnn_split_images/03-01-22/03-01-22-1.png\"\n",
        "      path = os.path.join(directory, dir+'/'+f)\n",
        "      extractedInformation = pytesseract.image_to_string(Image.open(path))\n",
        "      ctr+=1\n",
        "      print(ctr)\n",
        "      input_str += extractedInformation\n",
        "    text_list_cnn.append(input_str)"
      ],
      "metadata": {
        "id": "ASotob_uqAk2"
      },
      "execution_count": null,
      "outputs": []
    },
    {
      "cell_type": "code",
      "source": [
        "#CNN\n",
        "df = pd.DataFrame(text_list_cnn, columns=['cnn_text'])\n",
        "\n",
        "df_cnn = df.replace({r'\\s+$': ' ', r'^\\s+': ' ', '\\'}, regex=True).replace(r'\\n',  ' ', regex=True)\n",
        "\n",
        "temp_list = df_cnn['cnn_text'].tolist()\n",
        "\n",
        "with open('/content/drive/MyDrive/DSCI 550 Team Project/Assignment 3/fox_images_ocr_uncleaned.json', 'w') as fp:\n",
        "    json.dump(text_cnn_dict, fp)"
      ],
      "metadata": {
        "id": "udI8X57tqNLw"
      },
      "execution_count": null,
      "outputs": []
    },
    {
      "cell_type": "code",
      "source": [
        "#CNN-CLEANING\n",
        "\n",
        "data=text_cnn_dict\n",
        "\n",
        "data_with_cleaned_texts={}\n",
        "\n",
        "chars = re.escape(string.punctuation)\n",
        "nltk.download('words')\n",
        "words = set(nltk.corpus.words.words())\n",
        "\n",
        "data_with_cleaned_texts['03-31-22']=data_with_cleaned_texts['03-31-22'][1057:]\n",
        "\n",
        "with open('cnn_images__ocr.json', 'w') as fp:\n",
        "    json.dump(data_with_cleaned_texts, fp)"
      ],
      "metadata": {
        "id": "1v17z3jPqqUf"
      },
      "execution_count": null,
      "outputs": []
    },
    {
      "cell_type": "markdown",
      "metadata": {
        "id": "INlNRLuKm2PR"
      },
      "source": []
    }
  ],
  "metadata": {
    "colab": {
      "collapsed_sections": [],
      "provenance": []
    },
    "kernelspec": {
      "display_name": "Python 3",
      "name": "python3"
    },
    "language_info": {
      "name": "python"
    }
  },
  "nbformat": 4,
  "nbformat_minor": 0
}